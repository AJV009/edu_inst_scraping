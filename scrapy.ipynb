{
  "nbformat": 4,
  "nbformat_minor": 0,
  "metadata": {
    "colab": {
      "name": "scrapy.ipynb",
      "provenance": [],
      "collapsed_sections": []
    },
    "kernelspec": {
      "name": "python3",
      "display_name": "Python 3"
    }
  },
  "cells": [
    {
      "cell_type": "markdown",
      "metadata": {
        "id": "aXzSDUInTD4L",
        "colab_type": "text"
      },
      "source": [
        "# Web Scraping"
      ]
    },
    {
      "cell_type": "markdown",
      "metadata": {
        "id": "tZElFnbBTSUU",
        "colab_type": "text"
      },
      "source": [
        "## installing selenium in colab"
      ]
    },
    {
      "cell_type": "code",
      "metadata": {
        "id": "LMxdYbmYRxOJ",
        "colab_type": "code",
        "colab": {
          "base_uri": "https://localhost:8080/",
          "height": 476
        },
        "outputId": "dd2ca0d7-3ab7-4c53-d157-9cda6f0ea6cb"
      },
      "source": [
        "!pip install selenium\n",
        "!apt-get update # to update ubuntu to correctly run apt install\n",
        "!apt install chromium-chromedriver\n",
        "!cp /usr/lib/chromium-browser/chromedriver /usr/bin\n",
        "import sys\n",
        "sys.path.insert(0,'/usr/lib/chromium-browser/chromedriver')\n",
        "from selenium import webdriver\n",
        "chrome_options = webdriver.ChromeOptions()\n",
        "chrome_options.add_argument('--headless')\n",
        "chrome_options.add_argument('--no-sandbox')\n",
        "chrome_options.add_argument('--disable-dev-shm-usage')\n",
        "chrome_options.add_argument(\"download.default_directory=/content\")\n",
        "driver = webdriver.Chrome('chromedriver',chrome_options=chrome_options)"
      ],
      "execution_count": 22,
      "outputs": [
        {
          "output_type": "stream",
          "text": [
            "Requirement already satisfied: selenium in /usr/local/lib/python3.6/dist-packages (3.141.0)\n",
            "Requirement already satisfied: urllib3 in /usr/local/lib/python3.6/dist-packages (from selenium) (1.24.3)\n",
            "Hit:1 http://security.ubuntu.com/ubuntu bionic-security InRelease\n",
            "Hit:2 https://cloud.r-project.org/bin/linux/ubuntu bionic-cran35/ InRelease\n",
            "Ign:3 https://developer.download.nvidia.com/compute/cuda/repos/ubuntu1804/x86_64  InRelease\n",
            "Ign:4 https://developer.download.nvidia.com/compute/machine-learning/repos/ubuntu1804/x86_64  InRelease\n",
            "Hit:5 http://archive.ubuntu.com/ubuntu bionic InRelease\n",
            "Hit:6 https://developer.download.nvidia.com/compute/cuda/repos/ubuntu1804/x86_64  Release\n",
            "Hit:7 http://ppa.launchpad.net/graphics-drivers/ppa/ubuntu bionic InRelease\n",
            "Hit:8 https://developer.download.nvidia.com/compute/machine-learning/repos/ubuntu1804/x86_64  Release\n",
            "Hit:9 http://archive.ubuntu.com/ubuntu bionic-updates InRelease\n",
            "Hit:10 http://archive.ubuntu.com/ubuntu bionic-backports InRelease\n",
            "Hit:11 http://ppa.launchpad.net/marutter/c2d4u3.5/ubuntu bionic InRelease\n",
            "Reading package lists... Done\n",
            "Reading package lists... Done\n",
            "Building dependency tree       \n",
            "Reading state information... Done\n",
            "chromium-chromedriver is already the newest version (83.0.4103.61-0ubuntu0.18.04.1).\n",
            "The following package was automatically installed and is no longer required:\n",
            "  libnvidia-common-440\n",
            "Use 'apt autoremove' to remove it.\n",
            "0 upgraded, 0 newly installed, 0 to remove and 82 not upgraded.\n",
            "cp: '/usr/lib/chromium-browser/chromedriver' and '/usr/bin/chromedriver' are the same file\n"
          ],
          "name": "stdout"
        },
        {
          "output_type": "stream",
          "text": [
            "/usr/local/lib/python3.6/dist-packages/ipykernel_launcher.py:13: DeprecationWarning: use options instead of chrome_options\n",
            "  del sys.path[0]\n"
          ],
          "name": "stderr"
        }
      ]
    },
    {
      "cell_type": "markdown",
      "metadata": {
        "id": "BU99glgwTJvU",
        "colab_type": "text"
      },
      "source": [
        "## Step 1: Download College directory listing using Selenium and Chrome"
      ]
    },
    {
      "cell_type": "code",
      "metadata": {
        "id": "S6RK6h5GSSrL",
        "colab_type": "code",
        "colab": {}
      },
      "source": [
        "from selenium.webdriver.support.ui import Select\n",
        "# A funtion to select correct options and download data\n",
        "def download(url):\n",
        "    # Passing URL to browser\n",
        "    driver.get(url)\n",
        "    # selecting EXCEL from dropdown list \n",
        "    select = Select(driver.find_element_by_name(\"reportFormatType\"))\n",
        "    select.select_by_value('2')\n",
        "    # Selecting the \"search button\"\n",
        "    button = driver.find_element_by_class_name(\"btn-primary\")\n",
        "    button.click()\n",
        "    \n",
        "url = f\"http://aishe.nic.in/aishe/collegeDirectoryIndex?hasReportLink=index\"\n",
        "download(url)"
      ],
      "execution_count": 23,
      "outputs": []
    },
    {
      "cell_type": "markdown",
      "metadata": {
        "id": "mTunsQPvTyJt",
        "colab_type": "text"
      },
      "source": [
        "## Step 2: Read and list website URL into a different file.\n",
        "Expecting all three files downloaded earlier to be there in the uni_data folder."
      ]
    },
    {
      "cell_type": "code",
      "metadata": {
        "id": "lksJZa0VWOlF",
        "colab_type": "code",
        "colab": {}
      },
      "source": [
        "import glob, os\n",
        "os.chdir(\"/content\")\n",
        "excelfile = ''\n",
        "for file in glob.glob(\"*.xlsx\"):\n",
        "  excelfile = file"
      ],
      "execution_count": 29,
      "outputs": []
    },
    {
      "cell_type": "code",
      "metadata": {
        "id": "zYVM-IyySTZm",
        "colab_type": "code",
        "colab": {}
      },
      "source": [
        "import os\n",
        "(_, _, filenames) = next(os.walk(\"/content\"))\n",
        "import pandas as pd\n",
        "# loading the file to a pandas dataframe\n",
        "df = pd.read_excel(f\"/content/{excelfile}\",header=2,skiprows=[3,3])\n",
        "df = df[['College Name','Address','Website']]"
      ],
      "execution_count": 30,
      "outputs": []
    },
    {
      "cell_type": "code",
      "metadata": {
        "id": "nUZep-qzTsC4",
        "colab_type": "code",
        "colab": {
          "base_uri": "https://localhost:8080/",
          "height": 206
        },
        "outputId": "4e466547-7f2f-4c32-ddd2-77d0bbd1ef3a"
      },
      "source": [
        "# renaming columns\n",
        "df.rename(columns={'College Name':'name','Address':'address','Website':'website'},inplace=True)\n",
        "df.head(5)"
      ],
      "execution_count": 31,
      "outputs": [
        {
          "output_type": "execute_result",
          "data": {
            "text/html": [
              "<div>\n",
              "<style scoped>\n",
              "    .dataframe tbody tr th:only-of-type {\n",
              "        vertical-align: middle;\n",
              "    }\n",
              "\n",
              "    .dataframe tbody tr th {\n",
              "        vertical-align: top;\n",
              "    }\n",
              "\n",
              "    .dataframe thead th {\n",
              "        text-align: right;\n",
              "    }\n",
              "</style>\n",
              "<table border=\"1\" class=\"dataframe\">\n",
              "  <thead>\n",
              "    <tr style=\"text-align: right;\">\n",
              "      <th></th>\n",
              "      <th>name</th>\n",
              "      <th>address</th>\n",
              "      <th>website</th>\n",
              "    </tr>\n",
              "  </thead>\n",
              "  <tbody>\n",
              "    <tr>\n",
              "      <th>0</th>\n",
              "      <td>Jawaharlal Nehru Rajkeeya  Mahavidyalaya (Id: ...</td>\n",
              "      <td>Jawaharlal Nehru Rajkeeya  Mahavidyalaya, M S ...</td>\n",
              "      <td>jnrm.and.nic.in</td>\n",
              "    </tr>\n",
              "    <tr>\n",
              "      <th>1</th>\n",
              "      <td>Regional Medical Research Institute (I.C.M.R.)...</td>\n",
              "      <td>Post Bag No 13, Dollygunj, Port Blair</td>\n",
              "      <td>http://www.rmrc.res.in</td>\n",
              "    </tr>\n",
              "    <tr>\n",
              "      <th>2</th>\n",
              "      <td>Tagore Government College of Education (Id: C-...</td>\n",
              "      <td>M.G. Road, Middle Point, Port Blair - 744101</td>\n",
              "      <td>www.tgce.and.nic.in</td>\n",
              "    </tr>\n",
              "    <tr>\n",
              "      <th>3</th>\n",
              "      <td>Zoological Survey of India (Id: C-6560)</td>\n",
              "      <td>Zoological Survey of India, Andaman &amp; Nicobar ...</td>\n",
              "      <td>www.zsi.gov.in</td>\n",
              "    </tr>\n",
              "    <tr>\n",
              "      <th>4</th>\n",
              "      <td>Mahatma Gandhi Govt. College (Id: C-6547)</td>\n",
              "      <td>Rampur, Mayabunder, Mayabunder</td>\n",
              "      <td>http://mggcm.and.nic.in</td>\n",
              "    </tr>\n",
              "  </tbody>\n",
              "</table>\n",
              "</div>"
            ],
            "text/plain": [
              "                                                name  ...                  website\n",
              "0  Jawaharlal Nehru Rajkeeya  Mahavidyalaya (Id: ...  ...          jnrm.and.nic.in\n",
              "1  Regional Medical Research Institute (I.C.M.R.)...  ...   http://www.rmrc.res.in\n",
              "2  Tagore Government College of Education (Id: C-...  ...      www.tgce.and.nic.in\n",
              "3            Zoological Survey of India (Id: C-6560)  ...           www.zsi.gov.in\n",
              "4          Mahatma Gandhi Govt. College (Id: C-6547)  ...  http://mggcm.and.nic.in\n",
              "\n",
              "[5 rows x 3 columns]"
            ]
          },
          "metadata": {
            "tags": []
          },
          "execution_count": 31
        }
      ]
    },
    {
      "cell_type": "code",
      "metadata": {
        "id": "hL1n0Ii3T2X2",
        "colab_type": "code",
        "colab": {}
      },
      "source": [
        "# adding new columns to df-copy\n",
        "dfc = df.copy()\n",
        "#clean url from df\n",
        "def clean_url(url):\n",
        "    if isinstance(url, str): \n",
        "        if (url.startswith(\"http://\") or url.startswith(\"https://\")):\n",
        "            return url\n",
        "        else:\n",
        "            return \"http://\"+url\n",
        "    else:\n",
        "        return 'nan'\n",
        "\n",
        "# cleaning URL's\n",
        "dfc[\"website\"] = dfc.apply(lambda row : clean_url(row['website']), axis=1)\n",
        "\n",
        "# save file\n",
        "dfc.to_csv(\"cleanedOriginal.csv\")"
      ],
      "execution_count": 32,
      "outputs": []
    },
    {
      "cell_type": "markdown",
      "metadata": {
        "id": "wt2K21wQUJU-",
        "colab_type": "text"
      },
      "source": [
        "## Step 3: Loop through URLs and scrap data.\n",
        "#### Add Email, Contact No to the df"
      ]
    },
    {
      "cell_type": "code",
      "metadata": {
        "id": "QJ3q-Hx3UDV1",
        "colab_type": "code",
        "colab": {}
      },
      "source": [
        "# imp package imports\n",
        "import itertools\n",
        "# possible url extensions\n",
        "dir_lv1 = ['/Contact/','/Contact-us/','/ContactUs/','/Contact_us/','/']\n",
        "dir_lv2 = ['contact','contact_us','contact-us','contactus']\n",
        "# possible file extensions\n",
        "str1 = \".ASHX .ASP .ASPX .HTM .HTML .HTMLS .HXS .JSP .JSPX .MSPX .PHP .PHP3 .WSDL .XHTML\"\n",
        "formats_i = str1.split()\n",
        "formats_i.extend([''])\n",
        "# list all url combinations\n",
        "def combinator(l1, l2, l3):\n",
        "    comb_0=[]\n",
        "    for i in l1:\n",
        "        for j in l2:\n",
        "            for k in l3:\n",
        "                comb_0.append(i+j+k)\n",
        "    return comb_0\n",
        "T1_comb = combinator(dir_lv1, dir_lv2, formats_i)\n",
        "contactno = []\n",
        "emailid = []"
      ],
      "execution_count": 36,
      "outputs": []
    },
    {
      "cell_type": "code",
      "metadata": {
        "id": "VCXSkCKNUNcG",
        "colab_type": "code",
        "colab": {}
      },
      "source": [
        "import requests\n",
        "import copy\n",
        "# scrape webpage and extract email ID\n",
        "def emailscrap(url, comb):\n",
        "    el1 = []\n",
        "    nmURL = copy.deepcopy(url)\n",
        "    for i in comb:\n",
        "        print(nmURL)\n",
        "        try:\n",
        "            response = requests.get(nmURL)\n",
        "            nmURL = url+i\n",
        "        except (requests.exceptions.MissingSchema, requests.exceptions.ConnectionError):\n",
        "            # ignore pages with errors and continue with next url\n",
        "            nmURL = url+i\n",
        "            continue\n",
        "        new_emails = set(re.findall(r\"[a-z0-9\\.\\-+_]+@[a-z0-9\\.\\-+_]+\\.com\", response.text, re.I)) # re.I: (ignore case)\n",
        "        el1.extend(new_emails)\n",
        "    return \", \".join(el1)"
      ],
      "execution_count": 45,
      "outputs": []
    },
    {
      "cell_type": "code",
      "metadata": {
        "id": "I1g7fcJVUSNs",
        "colab_type": "code",
        "colab": {
          "base_uri": "https://localhost:8080/",
          "height": 1000
        },
        "outputId": "c04912c6-bd7b-4590-d6a6-de5b6017d3ad"
      },
      "source": [
        "# testing!\n",
        "emailscrap(\"http://jnrm.and.nic.in\", T1_comb)"
      ],
      "execution_count": null,
      "outputs": [
        {
          "output_type": "stream",
          "text": [
            "http://jnrm.and.nic.in\n",
            "http://jnrm.and.nic.in/Contact/contact.ASHX\n",
            "http://jnrm.and.nic.in/Contact/contact.ASP\n",
            "http://jnrm.and.nic.in/Contact/contact.ASPX\n",
            "http://jnrm.and.nic.in/Contact/contact.HTM\n",
            "http://jnrm.and.nic.in/Contact/contact.HTML\n",
            "http://jnrm.and.nic.in/Contact/contact.HTMLS\n",
            "http://jnrm.and.nic.in/Contact/contact.HXS\n",
            "http://jnrm.and.nic.in/Contact/contact.JSP\n",
            "http://jnrm.and.nic.in/Contact/contact.JSPX\n",
            "http://jnrm.and.nic.in/Contact/contact.MSPX\n",
            "http://jnrm.and.nic.in/Contact/contact.PHP\n",
            "http://jnrm.and.nic.in/Contact/contact.PHP3\n",
            "http://jnrm.and.nic.in/Contact/contact.WSDL\n",
            "http://jnrm.and.nic.in/Contact/contact.XHTML\n",
            "http://jnrm.and.nic.in/Contact/contact\n",
            "http://jnrm.and.nic.in/Contact/contact_us.ASHX\n",
            "http://jnrm.and.nic.in/Contact/contact_us.ASP\n",
            "http://jnrm.and.nic.in/Contact/contact_us.ASPX\n",
            "http://jnrm.and.nic.in/Contact/contact_us.HTM\n",
            "http://jnrm.and.nic.in/Contact/contact_us.HTML\n",
            "http://jnrm.and.nic.in/Contact/contact_us.HTMLS\n",
            "http://jnrm.and.nic.in/Contact/contact_us.HXS\n",
            "http://jnrm.and.nic.in/Contact/contact_us.JSP\n",
            "http://jnrm.and.nic.in/Contact/contact_us.JSPX\n",
            "http://jnrm.and.nic.in/Contact/contact_us.MSPX\n",
            "http://jnrm.and.nic.in/Contact/contact_us.PHP\n",
            "http://jnrm.and.nic.in/Contact/contact_us.PHP3\n",
            "http://jnrm.and.nic.in/Contact/contact_us.WSDL\n",
            "http://jnrm.and.nic.in/Contact/contact_us.XHTML\n",
            "http://jnrm.and.nic.in/Contact/contact_us\n",
            "http://jnrm.and.nic.in/Contact/contact-us.ASHX\n",
            "http://jnrm.and.nic.in/Contact/contact-us.ASP\n",
            "http://jnrm.and.nic.in/Contact/contact-us.ASPX\n",
            "http://jnrm.and.nic.in/Contact/contact-us.HTM\n",
            "http://jnrm.and.nic.in/Contact/contact-us.HTML\n",
            "http://jnrm.and.nic.in/Contact/contact-us.HTMLS\n",
            "http://jnrm.and.nic.in/Contact/contact-us.HXS\n",
            "http://jnrm.and.nic.in/Contact/contact-us.JSP\n",
            "http://jnrm.and.nic.in/Contact/contact-us.JSPX\n",
            "http://jnrm.and.nic.in/Contact/contact-us.MSPX\n",
            "http://jnrm.and.nic.in/Contact/contact-us.PHP\n",
            "http://jnrm.and.nic.in/Contact/contact-us.PHP3\n",
            "http://jnrm.and.nic.in/Contact/contact-us.WSDL\n",
            "http://jnrm.and.nic.in/Contact/contact-us.XHTML\n",
            "http://jnrm.and.nic.in/Contact/contact-us\n",
            "http://jnrm.and.nic.in/Contact/contactus.ASHX\n",
            "http://jnrm.and.nic.in/Contact/contactus.ASP\n",
            "http://jnrm.and.nic.in/Contact/contactus.ASPX\n",
            "http://jnrm.and.nic.in/Contact/contactus.HTM\n",
            "http://jnrm.and.nic.in/Contact/contactus.HTML\n",
            "http://jnrm.and.nic.in/Contact/contactus.HTMLS\n",
            "http://jnrm.and.nic.in/Contact/contactus.HXS\n",
            "http://jnrm.and.nic.in/Contact/contactus.JSP\n",
            "http://jnrm.and.nic.in/Contact/contactus.JSPX\n",
            "http://jnrm.and.nic.in/Contact/contactus.MSPX\n",
            "http://jnrm.and.nic.in/Contact/contactus.PHP\n",
            "http://jnrm.and.nic.in/Contact/contactus.PHP3\n",
            "http://jnrm.and.nic.in/Contact/contactus.WSDL\n",
            "http://jnrm.and.nic.in/Contact/contactus.XHTML\n",
            "http://jnrm.and.nic.in/Contact/contactus\n",
            "http://jnrm.and.nic.in/Contact-us/contact.ASHX\n",
            "http://jnrm.and.nic.in/Contact-us/contact.ASP\n",
            "http://jnrm.and.nic.in/Contact-us/contact.ASPX\n",
            "http://jnrm.and.nic.in/Contact-us/contact.HTM\n",
            "http://jnrm.and.nic.in/Contact-us/contact.HTML\n",
            "http://jnrm.and.nic.in/Contact-us/contact.HTMLS\n",
            "http://jnrm.and.nic.in/Contact-us/contact.HXS\n",
            "http://jnrm.and.nic.in/Contact-us/contact.JSP\n",
            "http://jnrm.and.nic.in/Contact-us/contact.JSPX\n",
            "http://jnrm.and.nic.in/Contact-us/contact.MSPX\n",
            "http://jnrm.and.nic.in/Contact-us/contact.PHP\n",
            "http://jnrm.and.nic.in/Contact-us/contact.PHP3\n",
            "http://jnrm.and.nic.in/Contact-us/contact.WSDL\n",
            "http://jnrm.and.nic.in/Contact-us/contact.XHTML\n",
            "http://jnrm.and.nic.in/Contact-us/contact\n",
            "http://jnrm.and.nic.in/Contact-us/contact_us.ASHX\n",
            "http://jnrm.and.nic.in/Contact-us/contact_us.ASP\n",
            "http://jnrm.and.nic.in/Contact-us/contact_us.ASPX\n",
            "http://jnrm.and.nic.in/Contact-us/contact_us.HTM\n",
            "http://jnrm.and.nic.in/Contact-us/contact_us.HTML\n",
            "http://jnrm.and.nic.in/Contact-us/contact_us.HTMLS\n",
            "http://jnrm.and.nic.in/Contact-us/contact_us.HXS\n",
            "http://jnrm.and.nic.in/Contact-us/contact_us.JSP\n",
            "http://jnrm.and.nic.in/Contact-us/contact_us.JSPX\n",
            "http://jnrm.and.nic.in/Contact-us/contact_us.MSPX\n",
            "http://jnrm.and.nic.in/Contact-us/contact_us.PHP\n",
            "http://jnrm.and.nic.in/Contact-us/contact_us.PHP3\n",
            "http://jnrm.and.nic.in/Contact-us/contact_us.WSDL\n",
            "http://jnrm.and.nic.in/Contact-us/contact_us.XHTML\n",
            "http://jnrm.and.nic.in/Contact-us/contact_us\n",
            "http://jnrm.and.nic.in/Contact-us/contact-us.ASHX\n",
            "http://jnrm.and.nic.in/Contact-us/contact-us.ASP\n",
            "http://jnrm.and.nic.in/Contact-us/contact-us.ASPX\n",
            "http://jnrm.and.nic.in/Contact-us/contact-us.HTM\n",
            "http://jnrm.and.nic.in/Contact-us/contact-us.HTML\n",
            "http://jnrm.and.nic.in/Contact-us/contact-us.HTMLS\n",
            "http://jnrm.and.nic.in/Contact-us/contact-us.HXS\n",
            "http://jnrm.and.nic.in/Contact-us/contact-us.JSP\n",
            "http://jnrm.and.nic.in/Contact-us/contact-us.JSPX\n",
            "http://jnrm.and.nic.in/Contact-us/contact-us.MSPX\n",
            "http://jnrm.and.nic.in/Contact-us/contact-us.PHP\n",
            "http://jnrm.and.nic.in/Contact-us/contact-us.PHP3\n",
            "http://jnrm.and.nic.in/Contact-us/contact-us.WSDL\n",
            "http://jnrm.and.nic.in/Contact-us/contact-us.XHTML\n",
            "http://jnrm.and.nic.in/Contact-us/contact-us\n",
            "http://jnrm.and.nic.in/Contact-us/contactus.ASHX\n",
            "http://jnrm.and.nic.in/Contact-us/contactus.ASP\n",
            "http://jnrm.and.nic.in/Contact-us/contactus.ASPX\n",
            "http://jnrm.and.nic.in/Contact-us/contactus.HTM\n",
            "http://jnrm.and.nic.in/Contact-us/contactus.HTML\n",
            "http://jnrm.and.nic.in/Contact-us/contactus.HTMLS\n",
            "http://jnrm.and.nic.in/Contact-us/contactus.HXS\n",
            "http://jnrm.and.nic.in/Contact-us/contactus.JSP\n",
            "http://jnrm.and.nic.in/Contact-us/contactus.JSPX\n",
            "http://jnrm.and.nic.in/Contact-us/contactus.MSPX\n",
            "http://jnrm.and.nic.in/Contact-us/contactus.PHP\n",
            "http://jnrm.and.nic.in/Contact-us/contactus.PHP3\n",
            "http://jnrm.and.nic.in/Contact-us/contactus.WSDL\n",
            "http://jnrm.and.nic.in/Contact-us/contactus.XHTML\n",
            "http://jnrm.and.nic.in/Contact-us/contactus\n",
            "http://jnrm.and.nic.in/ContactUs/contact.ASHX\n",
            "http://jnrm.and.nic.in/ContactUs/contact.ASP\n",
            "http://jnrm.and.nic.in/ContactUs/contact.ASPX\n"
          ],
          "name": "stdout"
        }
      ]
    },
    {
      "cell_type": "code",
      "metadata": {
        "id": "nZVWqjb2VU_V",
        "colab_type": "code",
        "colab": {}
      },
      "source": [
        "#\n",
        "dft = dfc.copy()\n",
        "dft[\"emails\"] = dft.apply(lambda row : emailscrap(row['website'], T1_comb), axis=1)"
      ],
      "execution_count": null,
      "outputs": []
    }
  ]
}