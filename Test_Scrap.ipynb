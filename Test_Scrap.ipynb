{
 "cells": [
  {
   "cell_type": "markdown",
   "metadata": {},
   "source": [
    "# Web Scraping For Fun!"
   ]
  },
  {
   "cell_type": "markdown",
   "metadata": {},
   "source": [
    "## Step 1: Download College directory listing using Selenium and Chrome"
   ]
  },
  {
   "cell_type": "code",
   "execution_count": null,
   "metadata": {},
   "outputs": [],
   "source": [
    "from selenium import webdriver\n",
    "from selenium.webdriver.support.ui import Select\n",
    "\n",
    "# Initialize selenium chrome web driver and URL variables\n",
    "driver = webdriver.Chrome()\n",
    "\n",
    "# A funtion to select correct options and download data\n",
    "def download(url):\n",
    "    # Passing URL to browser\n",
    "    driver.get(url)\n",
    "    # selecting EXCEL from dropdown list \n",
    "    select = Select(driver.find_element_by_name(\"reportFormatType\"))\n",
    "    select.select_by_value('2')\n",
    "    # Selecting the \"search button\"\n",
    "    button = driver.find_element_by_class_name(\"btn-primary\")\n",
    "    button.click()\n",
    "    \n",
    "url = f\"http://aishe.nic.in/aishe/collegeDirectoryIndex?hasReportLink=index\"\n",
    "download(url)"
   ]
  },
  {
   "cell_type": "markdown",
   "metadata": {},
   "source": [
    "## Step 2: Read and list website URL into a different file.\n",
    "Expecting all three files downloaded earlier to be there in the uni_data folder."
   ]
  },
  {
   "cell_type": "code",
   "execution_count": 31,
   "metadata": {},
   "outputs": [],
   "source": [
    "import os\n",
    "(_, _, filenames) = next(os.walk(\"uni_data\"))\n",
    "import pandas as pd\n",
    "# loading the file to a pandas dataframe\n",
    "df = pd.read_excel(f\"uni_data/{filenames[0]}\",header=2,skiprows=[3,3])\n",
    "df = df[['College Name','Address','Website']]"
   ]
  },
  {
   "cell_type": "code",
   "execution_count": 32,
   "metadata": {},
   "outputs": [
    {
     "data": {
      "text/html": [
       "<div>\n",
       "<style scoped>\n",
       "    .dataframe tbody tr th:only-of-type {\n",
       "        vertical-align: middle;\n",
       "    }\n",
       "\n",
       "    .dataframe tbody tr th {\n",
       "        vertical-align: top;\n",
       "    }\n",
       "\n",
       "    .dataframe thead th {\n",
       "        text-align: right;\n",
       "    }\n",
       "</style>\n",
       "<table border=\"1\" class=\"dataframe\">\n",
       "  <thead>\n",
       "    <tr style=\"text-align: right;\">\n",
       "      <th></th>\n",
       "      <th>name</th>\n",
       "      <th>address</th>\n",
       "      <th>website</th>\n",
       "    </tr>\n",
       "  </thead>\n",
       "  <tbody>\n",
       "    <tr>\n",
       "      <th>0</th>\n",
       "      <td>Jawaharlal Nehru Rajkeeya  Mahavidyalaya (Id: ...</td>\n",
       "      <td>Jawaharlal Nehru Rajkeeya  Mahavidyalaya, M S ...</td>\n",
       "      <td>jnrm.and.nic.in</td>\n",
       "    </tr>\n",
       "    <tr>\n",
       "      <th>1</th>\n",
       "      <td>Regional Medical Research Institute (I.C.M.R.)...</td>\n",
       "      <td>Post Bag No 13, Dollygunj, Port Blair</td>\n",
       "      <td>http://www.rmrc.res.in</td>\n",
       "    </tr>\n",
       "    <tr>\n",
       "      <th>2</th>\n",
       "      <td>Tagore Government College of Education (Id: C-...</td>\n",
       "      <td>M.G. Road, Middle Point, Port Blair - 744101</td>\n",
       "      <td>www.tgce.and.nic.in</td>\n",
       "    </tr>\n",
       "    <tr>\n",
       "      <th>3</th>\n",
       "      <td>Zoological Survey of India (Id: C-6560)</td>\n",
       "      <td>Zoological Survey of India, Andaman &amp; Nicobar ...</td>\n",
       "      <td>www.zsi.gov.in</td>\n",
       "    </tr>\n",
       "    <tr>\n",
       "      <th>4</th>\n",
       "      <td>Mahatma Gandhi Govt. College (Id: C-6547)</td>\n",
       "      <td>Rampur, Mayabunder, Mayabunder</td>\n",
       "      <td>http://mggcm.and.nic.in</td>\n",
       "    </tr>\n",
       "  </tbody>\n",
       "</table>\n",
       "</div>"
      ],
      "text/plain": [
       "                                                name  \\\n",
       "0  Jawaharlal Nehru Rajkeeya  Mahavidyalaya (Id: ...   \n",
       "1  Regional Medical Research Institute (I.C.M.R.)...   \n",
       "2  Tagore Government College of Education (Id: C-...   \n",
       "3            Zoological Survey of India (Id: C-6560)   \n",
       "4          Mahatma Gandhi Govt. College (Id: C-6547)   \n",
       "\n",
       "                                             address                  website  \n",
       "0  Jawaharlal Nehru Rajkeeya  Mahavidyalaya, M S ...          jnrm.and.nic.in  \n",
       "1              Post Bag No 13, Dollygunj, Port Blair   http://www.rmrc.res.in  \n",
       "2       M.G. Road, Middle Point, Port Blair - 744101      www.tgce.and.nic.in  \n",
       "3  Zoological Survey of India, Andaman & Nicobar ...           www.zsi.gov.in  \n",
       "4                     Rampur, Mayabunder, Mayabunder  http://mggcm.and.nic.in  "
      ]
     },
     "execution_count": 32,
     "metadata": {},
     "output_type": "execute_result"
    }
   ],
   "source": [
    "# renaming columns\n",
    "df.rename(columns={'College Name':'name','Address':'address','Website':'website'},inplace=True)\n",
    "df.head(5)"
   ]
  },
  {
   "cell_type": "code",
   "execution_count": 56,
   "metadata": {},
   "outputs": [],
   "source": [
    "# adding new columns to df-copy\n",
    "dfc = df.copy()\n",
    "#clean url from df\n",
    "def clean_url(url):\n",
    "    if isinstance(url, str): \n",
    "        if (url.startswith(\"http://\") or url.startswith(\"https://\")):\n",
    "            return url\n",
    "        else:\n",
    "            return \"http://\"+url\n",
    "    else:\n",
    "        return 'nan'\n",
    "# cleaning URL's\n",
    "dfc[\"website\"] = dfc.apply(lambda row : clean_url(row['website']), axis=1)\n",
    "dfc.to_csv(\"uni_data/cleanedOriginal.csv\")"
   ]
  },
  {
   "cell_type": "markdown",
   "metadata": {},
   "source": [
    "## Step 3: Loop through URLs and scrap data.\n",
    "#### Add Email, Contact No to the df"
   ]
  },
  {
   "cell_type": "code",
   "execution_count": 115,
   "metadata": {},
   "outputs": [],
   "source": [
    "# imp package imports\n",
    "import itertools\n",
    "# possible url extensions\n",
    "dir_lv1 = ['/Contact/','/Contact-us/','/ContactUs/','/Contact_us/','/']\n",
    "dir_lv2 = ['contact','contact_us','contact-us','contactus']\n",
    "# possible file extensions\n",
    "str1 = \".ARO .ASHX .ASP .ASPX .ATOM .ATT .AXD .CHM .CMS .CSS .DCR .DHTML .DISCOMAP .DOWNLOAD .ECE .ECE .EPIBRW .GNE .HTM .HTML .HTMLS .HXS .JCZ .JNLP .JS .JSON .JSP .JSPX .JVS .JWS .LASSO .MASTER .MSPX .NXG .OGNC .PHP .PHP3 .QRM .RHTML .RMD .RSS .RWP .SAVEDDECK .SVC .UCF .URL .WEBLOC .WSDL .XHTML .XPD .ZFO .ZUL\"\n",
    "formats_i = str1.split()\n",
    "formats_i.extend([''])\n",
    "# list all url combinations\n",
    "def combinator(l1, l2, l3):\n",
    "    comb_0=[]\n",
    "    for i in l1:\n",
    "        for j in l2:\n",
    "            for k in l3:\n",
    "                comb_0.append(i+j+k)\n",
    "    return comb_0\n",
    "T1_comb = combinator(dir_lv1, dir_lv2, formats_i)\n",
    "contactno = []\n",
    "emailid = []"
   ]
  },
  {
   "cell_type": "code",
   "execution_count": 116,
   "metadata": {},
   "outputs": [],
   "source": [
    "# scrape webpage and extract email ID\n",
    "def emailscrap(url, comb):\n",
    "    el1 = []\n",
    "    for i in comb:\n",
    "        url = url+i\n",
    "        print(url)\n",
    "        try:\n",
    "            response = requests.get(url)\n",
    "        except (requests.exceptions.MissingSchema, requests.exceptions.ConnectionError):\n",
    "            # ignore pages with errors and continue with next url\n",
    "            continue\n",
    "        new_emails = set(re.findall(r\"[a-z0-9\\.\\-+_]+@[a-z0-9\\.\\-+_]+\\.com\", response.text, re.I)) # re.I: (ignore case)\n",
    "        el1.extend(new_emails)\n",
    "    return \" \".join(el1)"
   ]
  },
  {
   "cell_type": "code",
   "execution_count": 117,
   "metadata": {},
   "outputs": [
    {
     "name": "stdout",
     "output_type": "stream",
     "text": [
      "http://jnrm.and.nic.in/Contact/contact.ARO\n"
     ]
    },
    {
     "data": {
      "text/plain": [
       "'nan'"
      ]
     },
     "execution_count": 117,
     "metadata": {},
     "output_type": "execute_result"
    }
   ],
   "source": [
    "emailscrap(\"http://jnrm.and.nic.in\", T1_comb)"
   ]
  },
  {
   "cell_type": "code",
   "execution_count": 110,
   "metadata": {},
   "outputs": [],
   "source": [
    "dft = dfc.copy()\n",
    "dft[\"emails\"] = dft.apply(lambda row : emailscrap(row['website'], T1_comb), axis=1)"
   ]
  },
  {
   "cell_type": "code",
   "execution_count": 111,
   "metadata": {},
   "outputs": [
    {
     "data": {
      "text/html": [
       "<div>\n",
       "<style scoped>\n",
       "    .dataframe tbody tr th:only-of-type {\n",
       "        vertical-align: middle;\n",
       "    }\n",
       "\n",
       "    .dataframe tbody tr th {\n",
       "        vertical-align: top;\n",
       "    }\n",
       "\n",
       "    .dataframe thead th {\n",
       "        text-align: right;\n",
       "    }\n",
       "</style>\n",
       "<table border=\"1\" class=\"dataframe\">\n",
       "  <thead>\n",
       "    <tr style=\"text-align: right;\">\n",
       "      <th></th>\n",
       "      <th>name</th>\n",
       "      <th>address</th>\n",
       "      <th>website</th>\n",
       "      <th>emails</th>\n",
       "    </tr>\n",
       "  </thead>\n",
       "  <tbody>\n",
       "    <tr>\n",
       "      <th>0</th>\n",
       "      <td>Jawaharlal Nehru Rajkeeya  Mahavidyalaya (Id: ...</td>\n",
       "      <td>Jawaharlal Nehru Rajkeeya  Mahavidyalaya, M S ...</td>\n",
       "      <td>http://jnrm.and.nic.in</td>\n",
       "      <td></td>\n",
       "    </tr>\n",
       "    <tr>\n",
       "      <th>1</th>\n",
       "      <td>Regional Medical Research Institute (I.C.M.R.)...</td>\n",
       "      <td>Post Bag No 13, Dollygunj, Port Blair</td>\n",
       "      <td>http://www.rmrc.res.in</td>\n",
       "      <td></td>\n",
       "    </tr>\n",
       "    <tr>\n",
       "      <th>2</th>\n",
       "      <td>Tagore Government College of Education (Id: C-...</td>\n",
       "      <td>M.G. Road, Middle Point, Port Blair - 744101</td>\n",
       "      <td>http://www.tgce.and.nic.in</td>\n",
       "      <td></td>\n",
       "    </tr>\n",
       "    <tr>\n",
       "      <th>3</th>\n",
       "      <td>Zoological Survey of India (Id: C-6560)</td>\n",
       "      <td>Zoological Survey of India, Andaman &amp; Nicobar ...</td>\n",
       "      <td>http://www.zsi.gov.in</td>\n",
       "      <td></td>\n",
       "    </tr>\n",
       "    <tr>\n",
       "      <th>4</th>\n",
       "      <td>Mahatma Gandhi Govt. College (Id: C-6547)</td>\n",
       "      <td>Rampur, Mayabunder, Mayabunder</td>\n",
       "      <td>http://mggcm.and.nic.in</td>\n",
       "      <td></td>\n",
       "    </tr>\n",
       "    <tr>\n",
       "      <th>...</th>\n",
       "      <td>...</td>\n",
       "      <td>...</td>\n",
       "      <td>...</td>\n",
       "      <td>...</td>\n",
       "    </tr>\n",
       "    <tr>\n",
       "      <th>44398</th>\n",
       "      <td>Ramkrishna Mahato Memorial Teachers Training C...</td>\n",
       "      <td>VILLAGE- MANAKCHITA, POST OFFICE- BARAGRAM, PO...</td>\n",
       "      <td>http://www.rmmttcollege.org.in</td>\n",
       "      <td></td>\n",
       "    </tr>\n",
       "    <tr>\n",
       "      <th>44399</th>\n",
       "      <td>SIMANTA MANBHUM TEACHERS TRAINING COLLEGE (Id:...</td>\n",
       "      <td>Chelyama, Raghunathpur</td>\n",
       "      <td>http://www.smttchelyama.org</td>\n",
       "      <td></td>\n",
       "    </tr>\n",
       "    <tr>\n",
       "      <th>44400</th>\n",
       "      <td>Sponsored Teachers' Training college (Id: C-44...</td>\n",
       "      <td>Deshbandhu Road, P.O : Purulia, Purulia</td>\n",
       "      <td>http://www.sttcollege.org</td>\n",
       "      <td></td>\n",
       "    </tr>\n",
       "    <tr>\n",
       "      <th>44401</th>\n",
       "      <td>Vidyasagar Foundation School of Education &amp; Tr...</td>\n",
       "      <td>Vill - Tamna, POST - SIMULIA , PIN- 723102, PU...</td>\n",
       "      <td>http://www.vidyasagarfoundation.org.in</td>\n",
       "      <td></td>\n",
       "    </tr>\n",
       "    <tr>\n",
       "      <th>44402</th>\n",
       "      <td>NaN</td>\n",
       "      <td>NaN</td>\n",
       "      <td>nan</td>\n",
       "      <td></td>\n",
       "    </tr>\n",
       "  </tbody>\n",
       "</table>\n",
       "<p>44403 rows × 4 columns</p>\n",
       "</div>"
      ],
      "text/plain": [
       "                                                    name  \\\n",
       "0      Jawaharlal Nehru Rajkeeya  Mahavidyalaya (Id: ...   \n",
       "1      Regional Medical Research Institute (I.C.M.R.)...   \n",
       "2      Tagore Government College of Education (Id: C-...   \n",
       "3                Zoological Survey of India (Id: C-6560)   \n",
       "4              Mahatma Gandhi Govt. College (Id: C-6547)   \n",
       "...                                                  ...   \n",
       "44398  Ramkrishna Mahato Memorial Teachers Training C...   \n",
       "44399  SIMANTA MANBHUM TEACHERS TRAINING COLLEGE (Id:...   \n",
       "44400  Sponsored Teachers' Training college (Id: C-44...   \n",
       "44401  Vidyasagar Foundation School of Education & Tr...   \n",
       "44402                                                NaN   \n",
       "\n",
       "                                                 address  \\\n",
       "0      Jawaharlal Nehru Rajkeeya  Mahavidyalaya, M S ...   \n",
       "1                  Post Bag No 13, Dollygunj, Port Blair   \n",
       "2           M.G. Road, Middle Point, Port Blair - 744101   \n",
       "3      Zoological Survey of India, Andaman & Nicobar ...   \n",
       "4                         Rampur, Mayabunder, Mayabunder   \n",
       "...                                                  ...   \n",
       "44398  VILLAGE- MANAKCHITA, POST OFFICE- BARAGRAM, PO...   \n",
       "44399                             Chelyama, Raghunathpur   \n",
       "44400            Deshbandhu Road, P.O : Purulia, Purulia   \n",
       "44401  Vill - Tamna, POST - SIMULIA , PIN- 723102, PU...   \n",
       "44402                                                NaN   \n",
       "\n",
       "                                      website emails  \n",
       "0                      http://jnrm.and.nic.in         \n",
       "1                      http://www.rmrc.res.in         \n",
       "2                  http://www.tgce.and.nic.in         \n",
       "3                       http://www.zsi.gov.in         \n",
       "4                     http://mggcm.and.nic.in         \n",
       "...                                       ...    ...  \n",
       "44398          http://www.rmmttcollege.org.in         \n",
       "44399             http://www.smttchelyama.org         \n",
       "44400               http://www.sttcollege.org         \n",
       "44401  http://www.vidyasagarfoundation.org.in         \n",
       "44402                                     nan         \n",
       "\n",
       "[44403 rows x 4 columns]"
      ]
     },
     "execution_count": 111,
     "metadata": {},
     "output_type": "execute_result"
    }
   ],
   "source": [
    "dft"
   ]
  },
  {
   "cell_type": "code",
   "execution_count": null,
   "metadata": {},
   "outputs": [],
   "source": []
  }
 ],
 "metadata": {
  "kernelspec": {
   "display_name": "datacamp",
   "language": "python",
   "name": "datacamp"
  },
  "language_info": {
   "codemirror_mode": {
    "name": "ipython",
    "version": 3
   },
   "file_extension": ".py",
   "mimetype": "text/x-python",
   "name": "python",
   "nbconvert_exporter": "python",
   "pygments_lexer": "ipython3",
   "version": "3.6.10"
  }
 },
 "nbformat": 4,
 "nbformat_minor": 4
}
