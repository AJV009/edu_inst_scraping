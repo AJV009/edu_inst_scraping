{
 "cells": [
  {
   "cell_type": "markdown",
   "metadata": {},
   "source": [
    "# Web Scraping For Fun!"
   ]
  },
  {
   "cell_type": "markdown",
   "metadata": {},
   "source": [
    "## Step 1: Download University, College and Institute directory listing using Selenium and Chrome"
   ]
  },
  {
   "cell_type": "code",
   "execution_count": null,
   "metadata": {},
   "outputs": [],
   "source": [
    "from selenium import webdriver\n",
    "from selenium.webdriver.support.ui import Select\n",
    "\n",
    "# Initialize selenium chrome web driver and URL variables\n",
    "driver = webdriver.Chrome()\n",
    "wh = [\"university\",\"college\",\"institute\"]\n",
    "\n",
    "# A funtion to select correct options and download data\n",
    "def download(url):\n",
    "    # Passing URL to browser\n",
    "    driver.get(url)\n",
    "    # selecting EXCEL from dropdown list \n",
    "    select = Select(driver.find_element_by_name(\"reportFormatType\"))\n",
    "    select.select_by_value('2')\n",
    "    # Selecting the \"search button\"\n",
    "    button = driver.find_element_by_class_name(\"btn-primary\")\n",
    "    button.click()\n",
    "    \n",
    "\n",
    "    url = f\"http://aishe.nic.in/aishe/{d}DirectoryIndex?hasReportLink=index\"\n",
    "    download(url)"
   ]
  },
  {
   "cell_type": "markdown",
   "metadata": {},
   "source": [
    "## Step 2: Read and list website URL into a different file.\n",
    "Expecting all three files downloaded earlier to be there in the uni_data folder."
   ]
  },
  {
   "cell_type": "code",
   "execution_count": 66,
   "metadata": {},
   "outputs": [],
   "source": [
    "import os\n",
    "(_, _, filenames) = next(os.walk(\"uni_data\"))\n",
    "import pandas as pd\n",
    "# file 1\n",
    "df1 = pd.read_excel(f\"uni_data/{filenames[0]}\",header=2,skiprows=[3,3])\n",
    "df1 = df1[['College Name','Address','Website']]"
   ]
  },
  {
   "cell_type": "code",
   "execution_count": null,
   "metadata": {},
   "outputs": [],
   "source": []
  }
 ],
 "metadata": {
  "kernelspec": {
   "display_name": "datacamp",
   "language": "python",
   "name": "datacamp"
  },
  "language_info": {
   "codemirror_mode": {
    "name": "ipython",
    "version": 3
   },
   "file_extension": ".py",
   "mimetype": "text/x-python",
   "name": "python",
   "nbconvert_exporter": "python",
   "pygments_lexer": "ipython3",
   "version": "3.6.10"
  }
 },
 "nbformat": 4,
 "nbformat_minor": 4
}
